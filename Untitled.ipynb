{
 "cells": [
  {
   "cell_type": "code",
   "execution_count": 1,
   "metadata": {},
   "outputs": [
    {
     "name": "stdout",
     "output_type": "stream",
     "text": [
      "[[       nan        nan        nan        nan        nan]\n",
      " [       nan 159.779999 160.869995 159.229996 160.470001]\n",
      " [       nan 160.419998 160.710007 159.600006 159.759995]\n",
      " ...\n",
      " [       nan 221.160004 221.830002 217.270004 217.360001]\n",
      " [       nan 218.929993 222.990005 216.759995 222.149994]\n",
      " [       nan 222.300003 222.639999 219.339996 221.190002]]\n"
     ]
    }
   ],
   "source": [
    "import numpy as np\n",
    "from scipy.signal import argrelextrema\n",
    "\n",
    "df = np.genfromtxt('AAPL.csv', delimiter=',')\n",
    "print(df)"
   ]
  },
  {
   "cell_type": "code",
   "execution_count": 2,
   "metadata": {},
   "outputs": [
    {
     "name": "stdout",
     "output_type": "stream",
     "text": [
      "[       nan 160.470001 159.759995 155.979996 156.25     156.169998\n",
      " 157.100006 156.410004 157.410004 163.050003 166.720001 169.039993\n",
      " 166.889999 168.110001 172.5      174.25     174.809998 176.240005\n",
      " 175.880005 174.669998 173.970001 171.339996 169.080002 171.100006\n",
      " 170.149994 169.979996 173.139999 174.960007 174.970001 174.089996\n",
      " 173.070007 169.479996 171.850006 171.050003 169.800003 169.639999\n",
      " 169.009995 169.320007 169.369995 172.669998 171.699997 172.270004\n",
      " 172.220001 173.970001 176.419998 174.539993 174.350006 175.009995\n",
      " 175.009995 170.570007 170.600006 171.080002 169.229996 172.259995\n",
      " 172.229996 173.029999 175.       174.350006 174.330002 174.289993\n",
      " 175.279999 177.089996 176.190002 179.100006 179.259995 178.460007\n",
      " 177.       177.039993 174.220001 171.110001 171.509995 167.960007\n",
      " 166.970001 167.429993 167.779999 160.5      156.490005 163.029999\n",
      " 159.539993 155.149994 156.410004 162.710007 164.339996 167.369995\n",
      " 172.990005 172.429993 171.850006 171.070007 172.5      175.5\n",
      " 178.970001 178.389999 178.119995 175.       176.210007 176.820007\n",
      " 176.669998 175.029999 176.940002 179.979996 181.720001 179.970001\n",
      " 178.440002 178.649994 178.020004 175.300003 175.240005 171.270004\n",
      " 168.850006 164.940002 172.770004 168.339996 166.479996 167.779999\n",
      " 166.679993 168.389999 171.610001 172.800003 168.380005 170.050003\n",
      " 173.25     172.440002 174.139999 174.729996 175.820007 178.240005\n",
      " 177.839996 172.800003 165.720001 165.240005 162.940002 163.649994\n",
      " 164.220001 162.320007 165.259995 169.100006 176.570007 176.889999\n",
      " 183.830002 185.160004 186.050003 187.360001 190.039993 188.589996\n",
      " 188.149994 186.440002 188.179993 186.990005 186.309998 187.630005\n",
      " 187.160004 188.360001 188.149994 188.580002 187.899994 187.5\n",
      " 186.869995 190.240005 191.830002 193.309998 193.979996 193.460007\n",
      " 191.699997 191.229996 192.279999 190.699997 190.800003 188.839996\n",
      " 188.740005 185.690002 186.5      185.460007 184.919998 182.169998\n",
      " 184.429993 184.160004 185.5      185.110001 187.179993 183.919998\n",
      " 185.399994 187.970001 190.580002 190.350006 187.880005 191.029999\n",
      " 191.330002 190.910004 191.449997 190.399994 191.880005 191.440002\n",
      " 191.610001 193.       194.820007 194.210007 190.979996 189.910004\n",
      " 190.289993 201.5      207.389999 207.990005 209.070007 207.110001\n",
      " 207.25     208.880005 207.529999 208.869995 209.75     210.240005\n",
      " 213.320007 217.580002 215.460007 215.039993 215.050003 215.490005\n",
      " 216.160004 217.940002 219.699997 222.979996 225.029999 227.630005\n",
      " 228.360001 226.869995 223.100006 221.300003 218.330002 223.850006\n",
      " 221.070007 226.410004 223.839996 217.880005 218.240005 218.369995\n",
      " 220.029999 217.660004 220.789993 222.190002 220.419998 224.949997\n",
      " 225.740005 227.259995 229.279999 232.070007 227.990005 224.289993\n",
      " 223.770004 226.869995 216.360001 214.449997 222.110001 217.360001\n",
      " 222.149994 221.190002]\n"
     ]
    }
   ],
   "source": [
    "x=df[:, 4]\n",
    "print(x)"
   ]
  },
  {
   "cell_type": "code",
   "execution_count": 7,
   "metadata": {},
   "outputs": [
    {
     "name": "stdout",
     "output_type": "stream",
     "text": [
      "[[  3  22  25  31  36  46  49  52  59  72  76  79  87  93  97 109 112 118\n",
      "  130 133 145 148 156 173 179 184 189 197 203 213 226 231 235 238 249]]\n",
      "[[ 11  17  28  39  44  56  64  74  77  84  90  95 100 110 117 125 142 146\n",
      "  153 160 164 178 182 190 194 202 205 211 222 229 243 247 252]]\n"
     ]
    },
    {
     "name": "stderr",
     "output_type": "stream",
     "text": [
      "c:\\users\\patrik liba\\appdata\\local\\programs\\python\\python36\\lib\\site-packages\\scipy\\signal\\_peak_finding.py:73: RuntimeWarning: invalid value encountered in less\n",
      "  results &= comparator(main, plus)\n",
      "c:\\users\\patrik liba\\appdata\\local\\programs\\python\\python36\\lib\\site-packages\\scipy\\signal\\_peak_finding.py:74: RuntimeWarning: invalid value encountered in less\n",
      "  results &= comparator(main, minus)\n",
      "c:\\users\\patrik liba\\appdata\\local\\programs\\python\\python36\\lib\\site-packages\\scipy\\signal\\_peak_finding.py:73: RuntimeWarning: invalid value encountered in greater\n",
      "  results &= comparator(main, plus)\n",
      "c:\\users\\patrik liba\\appdata\\local\\programs\\python\\python36\\lib\\site-packages\\scipy\\signal\\_peak_finding.py:74: RuntimeWarning: invalid value encountered in greater\n",
      "  results &= comparator(main, minus)\n"
     ]
    },
    {
     "ename": "TypeError",
     "evalue": "'numpy.ndarray' object is not callable",
     "output_type": "error",
     "traceback": [
      "\u001b[1;31m---------------------------------------------------------------------------\u001b[0m",
      "\u001b[1;31mTypeError\u001b[0m                                 Traceback (most recent call last)",
      "\u001b[1;32m<ipython-input-7-05a315191b55>\u001b[0m in \u001b[0;36m<module>\u001b[1;34m()\u001b[0m\n\u001b[0;32m     10\u001b[0m \u001b[0mcombined\u001b[0m \u001b[1;33m=\u001b[0m \u001b[1;33m[\u001b[0m\u001b[1;33m]\u001b[0m\u001b[1;33m\u001b[0m\u001b[0m\n\u001b[0;32m     11\u001b[0m \u001b[1;32mfor\u001b[0m \u001b[0mi\u001b[0m \u001b[1;32min\u001b[0m \u001b[0mrange\u001b[0m\u001b[1;33m(\u001b[0m\u001b[0mlen\u001b[0m\u001b[1;33m(\u001b[0m\u001b[0mminimum\u001b[0m\u001b[1;33m)\u001b[0m\u001b[1;33m)\u001b[0m\u001b[1;33m:\u001b[0m\u001b[1;33m\u001b[0m\u001b[0m\n\u001b[1;32m---> 12\u001b[1;33m     \u001b[0mcombined\u001b[0m\u001b[1;33m.\u001b[0m\u001b[0mappend\u001b[0m\u001b[1;33m(\u001b[0m\u001b[0mmaximum\u001b[0m\u001b[1;33m(\u001b[0m\u001b[0mi\u001b[0m\u001b[1;33m)\u001b[0m\u001b[1;33m)\u001b[0m\u001b[1;33m\u001b[0m\u001b[0m\n\u001b[0m\u001b[0;32m     13\u001b[0m     \u001b[0mcombined\u001b[0m\u001b[1;33m.\u001b[0m\u001b[0mappend\u001b[0m\u001b[1;33m(\u001b[0m\u001b[0mminimum\u001b[0m\u001b[1;33m(\u001b[0m\u001b[0mi\u001b[0m\u001b[1;33m)\u001b[0m\u001b[1;33m)\u001b[0m\u001b[1;33m\u001b[0m\u001b[0m\n",
      "\u001b[1;31mTypeError\u001b[0m: 'numpy.ndarray' object is not callable"
     ]
    }
   ],
   "source": [
    "minimum = np.asarray(argrelextrema(x, np.less, order=2))\n",
    "maximum = np.asarray(argrelextrema(x, np.greater, order=2))\n",
    "\n",
    "minimum.flatten()\n",
    "maximum.flatten()\n",
    "\n",
    "print(minimum)\n",
    "print(maximum)\n",
    "\n",
    "combined = []\n",
    "for i in range(len(minimum)):\n",
    "    combined.append(maximum(i))\n",
    "    combined.append(minimum(i))"
   ]
  },
  {
   "cell_type": "code",
   "execution_count": 5,
   "metadata": {},
   "outputs": [
    {
     "data": {
      "text/plain": [
       "[<matplotlib.lines.Line2D at 0x2357e4314a8>,\n",
       " <matplotlib.lines.Line2D at 0x2357e4316a0>,\n",
       " <matplotlib.lines.Line2D at 0x2357e4317f0>,\n",
       " <matplotlib.lines.Line2D at 0x2357e431940>,\n",
       " <matplotlib.lines.Line2D at 0x2357e431a90>,\n",
       " <matplotlib.lines.Line2D at 0x2357e431be0>,\n",
       " <matplotlib.lines.Line2D at 0x2357e431d30>,\n",
       " <matplotlib.lines.Line2D at 0x2357e431e80>,\n",
       " <matplotlib.lines.Line2D at 0x2357e431fd0>,\n",
       " <matplotlib.lines.Line2D at 0x2357e43d160>,\n",
       " <matplotlib.lines.Line2D at 0x2357e3edf60>,\n",
       " <matplotlib.lines.Line2D at 0x2357e43d3c8>,\n",
       " <matplotlib.lines.Line2D at 0x2357e43d518>,\n",
       " <matplotlib.lines.Line2D at 0x2357e43d668>,\n",
       " <matplotlib.lines.Line2D at 0x2357e43d7b8>,\n",
       " <matplotlib.lines.Line2D at 0x2357e43d908>,\n",
       " <matplotlib.lines.Line2D at 0x2357e43da58>,\n",
       " <matplotlib.lines.Line2D at 0x2357e43dba8>,\n",
       " <matplotlib.lines.Line2D at 0x2357e43dcf8>,\n",
       " <matplotlib.lines.Line2D at 0x2357e43de48>,\n",
       " <matplotlib.lines.Line2D at 0x2357e43df98>,\n",
       " <matplotlib.lines.Line2D at 0x2357e443128>,\n",
       " <matplotlib.lines.Line2D at 0x2357e443278>,\n",
       " <matplotlib.lines.Line2D at 0x2357e4433c8>,\n",
       " <matplotlib.lines.Line2D at 0x2357e443518>,\n",
       " <matplotlib.lines.Line2D at 0x2357e443668>,\n",
       " <matplotlib.lines.Line2D at 0x2357e4437b8>,\n",
       " <matplotlib.lines.Line2D at 0x2357e443908>,\n",
       " <matplotlib.lines.Line2D at 0x2357e443a58>,\n",
       " <matplotlib.lines.Line2D at 0x2357e443ba8>,\n",
       " <matplotlib.lines.Line2D at 0x2357e443cf8>,\n",
       " <matplotlib.lines.Line2D at 0x2357e443e48>,\n",
       " <matplotlib.lines.Line2D at 0x2357e443f98>,\n",
       " <matplotlib.lines.Line2D at 0x2357e447128>,\n",
       " <matplotlib.lines.Line2D at 0x2357e447278>]"
      ]
     },
     "execution_count": 5,
     "metadata": {},
     "output_type": "execute_result"
    },
    {
     "data": {
      "image/png": "[encoded data removed]",
      "text/plain": [
       "<Figure size 432x288 with 1 Axes>"
      ]
     },
     "metadata": {},
     "output_type": "display_data"
    }
   ],
   "source": [
    "import matplotlib.pyplot as plt\n",
    "\n",
    "plt.plot(minimum)"
   ]
  }
 ],
 "metadata": {
  "kernelspec": {
   "display_name": "Python 3",
   "language": "python",
   "name": "python3"
  }
 },
 "nbformat": 4,
 "nbformat_minor": 2
}
