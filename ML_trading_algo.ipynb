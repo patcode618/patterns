{
 "cells": [
  {
   "cell_type": "code",
   "execution_count": 2,
   "metadata": {},
   "outputs": [],
   "source": [
    "import pandas as pd\n",
    "import numpy as np\n",
    "import plotly as py\n",
    "from plotly import tools\n",
    "import plotly.graph_objs as go\n",
    "\n",
    "from scipy import stats\n",
    "import scipy.optimize\n",
    "from scipy.optimize import OptimizeWarning\n",
    "import warnings\n",
    "import math\n",
    "import matplotlib.pyplot as plt\n",
    "\n",
    "from sklearn.linear_model import LinearRegression\n",
    "\n",
    "import mpl_finance\n",
    "from matplotlib.dates import date2num\n",
    "from datetime import datetime"
   ]
  },
  {
   "cell_type": "code",
   "execution_count": 3,
   "metadata": {
    "scrolled": true
   },
   "outputs": [
    {
     "data": {
      "text/html": [
       "<div>\n",
       "<style scoped>\n",
       "    .dataframe tbody tr th:only-of-type {\n",
       "        vertical-align: middle;\n",
       "    }\n",
       "\n",
       "    .dataframe tbody tr th {\n",
       "        vertical-align: top;\n",
       "    }\n",
       "\n",
       "    .dataframe thead th {\n",
       "        text-align: right;\n",
       "    }\n",
       "</style>\n",
       "<table border=\"1\" class=\"dataframe\">\n",
       "  <thead>\n",
       "    <tr style=\"text-align: right;\">\n",
       "      <th></th>\n",
       "      <th>open</th>\n",
       "      <th>high</th>\n",
       "      <th>low</th>\n",
       "      <th>close</th>\n",
       "      <th>AskVol</th>\n",
       "    </tr>\n",
       "    <tr>\n",
       "      <th>date</th>\n",
       "      <th></th>\n",
       "      <th></th>\n",
       "      <th></th>\n",
       "      <th></th>\n",
       "      <th></th>\n",
       "    </tr>\n",
       "  </thead>\n",
       "  <tbody>\n",
       "    <tr>\n",
       "      <th>2017-01-01 22:00:00</th>\n",
       "      <td>1.05236</td>\n",
       "      <td>1.05253</td>\n",
       "      <td>1.05221</td>\n",
       "      <td>1.05227</td>\n",
       "      <td>143.54</td>\n",
       "    </tr>\n",
       "    <tr>\n",
       "      <th>2017-01-01 23:00:00</th>\n",
       "      <td>1.05227</td>\n",
       "      <td>1.05426</td>\n",
       "      <td>1.05226</td>\n",
       "      <td>1.05282</td>\n",
       "      <td>253.14</td>\n",
       "    </tr>\n",
       "    <tr>\n",
       "      <th>2017-01-02 00:00:00</th>\n",
       "      <td>1.05283</td>\n",
       "      <td>1.05283</td>\n",
       "      <td>1.05268</td>\n",
       "      <td>1.05281</td>\n",
       "      <td>131.40</td>\n",
       "    </tr>\n",
       "    <tr>\n",
       "      <th>2017-01-02 01:00:00</th>\n",
       "      <td>1.05282</td>\n",
       "      <td>1.05286</td>\n",
       "      <td>1.05225</td>\n",
       "      <td>1.05240</td>\n",
       "      <td>273.94</td>\n",
       "    </tr>\n",
       "    <tr>\n",
       "      <th>2017-01-02 02:00:00</th>\n",
       "      <td>1.05239</td>\n",
       "      <td>1.05240</td>\n",
       "      <td>1.05164</td>\n",
       "      <td>1.05220</td>\n",
       "      <td>258.14</td>\n",
       "    </tr>\n",
       "  </tbody>\n",
       "</table>\n",
       "</div>"
      ],
      "text/plain": [
       "                        open     high      low    close  AskVol\n",
       "date                                                           \n",
       "2017-01-01 22:00:00  1.05236  1.05253  1.05221  1.05227  143.54\n",
       "2017-01-01 23:00:00  1.05227  1.05426  1.05226  1.05282  253.14\n",
       "2017-01-02 00:00:00  1.05283  1.05283  1.05268  1.05281  131.40\n",
       "2017-01-02 01:00:00  1.05282  1.05286  1.05225  1.05240  273.94\n",
       "2017-01-02 02:00:00  1.05239  1.05240  1.05164  1.05220  258.14"
      ]
     },
     "execution_count": 3,
     "metadata": {},
     "output_type": "execute_result"
    }
   ],
   "source": [
    "df = pd.read_csv(\"EURUSD.csv\")\n",
    "df.columns = [\"date\", \"open\", \"high\", \"low\", \"close\", \"AskVol\"]\n",
    "\n",
    "df.date = pd.to_datetime(df.date, format=\"%d.%m.%Y %H:%M:%S.%f\") \n",
    "df = df.set_index(df.date)\n",
    "df = df[[\"open\", \"high\", \"low\", \"close\", \"AskVol\"]]\n",
    "# drop market-close price per hour\n",
    "df = df.drop_duplicates(keep=False)\n",
    "\n",
    "\n",
    "df.head()"
   ]
  },
  {
   "cell_type": "markdown",
   "metadata": {},
   "source": [
    "# Features Creation"
   ]
  },
  {
   "cell_type": "markdown",
   "metadata": {},
   "source": [
    "### 1) Heiken Ashi - given the paper"
   ]
  },
  {
   "cell_type": "code",
   "execution_count": 6,
   "metadata": {},
   "outputs": [
    {
     "ename": "ValueError",
     "evalue": "\n    Invalid value of type 'pandas.core.frame.DataFrame' received for the 'close' property of ohlc\n        Received value:                         close\ndate                         \n2017-01-01 22:00:00  1.052342\n2017-01-01 23:00:00  1.052903\n2017-01-02 00:00:00  1.052787\n2017-01-02 01:00:00  1.052583\n2017-01-02 02:00:00  1.052157\n2017-01-02 03:00:00  1.052183\n2017-01-02 04:00:00  1.052080\n2017-01-02 05:00:00  1.051723\n2017-01-02 06:00:00  1.051560\n2017-01-02 07:00:00  1.051762\n2017-01-02 08:00:00  1.050310\n2017-01-02 09:00:00  1.048717\n2017-01-02 10:00:00  1.048447\n2017-01-02 11:00:00  1.047993\n2017-01-02 12:00:00  1.047250\n2017-01-02 13:00:00  1.046605\n2017-01-02 14:00:00  1.047065\n2017-01-02 15:00:00  1.047138\n2017-01-02 16:00:00  1.047305\n2017-01-02 17:00:00  1.046762\n2017-01-02 18:00:00  1.046435\n2017-01-02 19:00:00  1.046215\n2017-01-02 20:00:00  1.046037\n2017-01-02 21:00:00  1.045687\n2017-01-02 22:00:00  1.046218\n2017-01-02 23:00:00  1.046270\n2017-01-03 00:00:00  1.046327\n2017-01-03 01:00:00  1.047203\n2017-01-03 02:00:00  1.047438\n2017-01-03 03:00:00  1.047842\n...                       ...\n2018-12-06 16:00:00  1.137480\n2018-12-06 17:00:00  1.138075\n2018-12-06 18:00:00  1.138610\n2018-12-06 19:00:00  1.138005\n2018-12-06 20:00:00  1.137655\n2018-12-06 21:00:00  1.138057\n2018-12-06 22:00:00  1.137925\n2018-12-06 23:00:00  1.137672\n2018-12-07 00:00:00  1.137503\n2018-12-07 01:00:00  1.137528\n2018-12-07 02:00:00  1.137550\n2018-12-07 03:00:00  1.137732\n2018-12-07 04:00:00  1.137612\n2018-12-07 05:00:00  1.137063\n2018-12-07 06:00:00  1.137025\n2018-12-07 07:00:00  1.137095\n2018-12-07 08:00:00  1.137440\n2018-12-07 09:00:00  1.137190\n2018-12-07 10:00:00  1.136883\n2018-12-07 11:00:00  1.137650\n2018-12-07 12:00:00  1.137365\n2018-12-07 13:00:00  1.138402\n2018-12-07 14:00:00  1.138867\n2018-12-07 15:00:00  1.138652\n2018-12-07 16:00:00  1.139245\n2018-12-07 17:00:00  1.139132\n2018-12-07 18:00:00  1.140090\n2018-12-07 19:00:00  1.141512\n2018-12-07 20:00:00  1.141573\n2018-12-07 21:00:00  1.139712\n\n[12081 rows x 1 columns]\n\n    The 'close' property is an array that may be specified as a tuple,\n    list, numpy array, or pandas Series",
     "output_type": "error",
     "traceback": [
      "\u001b[1;31m---------------------------------------------------------------------------\u001b[0m",
      "\u001b[1;31mValueError\u001b[0m                                Traceback (most recent call last)",
      "\u001b[1;32m<ipython-input-6-4ff3ec6bfd85>\u001b[0m in \u001b[0;36m<module>\u001b[1;34m()\u001b[0m\n\u001b[0;32m     51\u001b[0m \u001b[0mtrace0\u001b[0m \u001b[1;33m=\u001b[0m \u001b[0mgo\u001b[0m\u001b[1;33m.\u001b[0m\u001b[0mOhlc\u001b[0m\u001b[1;33m(\u001b[0m\u001b[0mx\u001b[0m\u001b[1;33m=\u001b[0m\u001b[0mdf\u001b[0m\u001b[1;33m.\u001b[0m\u001b[0mindex\u001b[0m\u001b[1;33m,\u001b[0m \u001b[0mopen\u001b[0m\u001b[1;33m=\u001b[0m\u001b[0mdf\u001b[0m\u001b[1;33m.\u001b[0m\u001b[0mopen\u001b[0m\u001b[1;33m,\u001b[0m \u001b[0mhigh\u001b[0m\u001b[1;33m=\u001b[0m\u001b[0mdf\u001b[0m\u001b[1;33m.\u001b[0m\u001b[0mhigh\u001b[0m\u001b[1;33m,\u001b[0m \u001b[0mlow\u001b[0m\u001b[1;33m=\u001b[0m\u001b[0mdf\u001b[0m\u001b[1;33m.\u001b[0m\u001b[0mlow\u001b[0m\u001b[1;33m,\u001b[0m \u001b[0mclose\u001b[0m\u001b[1;33m=\u001b[0m\u001b[0mdf\u001b[0m\u001b[1;33m.\u001b[0m\u001b[0mclose\u001b[0m\u001b[1;33m,\u001b[0m \u001b[0mname\u001b[0m\u001b[1;33m=\u001b[0m\u001b[1;34m\"Currency Quote\"\u001b[0m\u001b[1;33m)\u001b[0m\u001b[1;33m\u001b[0m\u001b[0m\n\u001b[0;32m     52\u001b[0m \u001b[0mtrace1\u001b[0m \u001b[1;33m=\u001b[0m \u001b[0mgo\u001b[0m\u001b[1;33m.\u001b[0m\u001b[0mScatter\u001b[0m\u001b[1;33m(\u001b[0m\u001b[0mx\u001b[0m\u001b[1;33m=\u001b[0m\u001b[0mdf\u001b[0m\u001b[1;33m.\u001b[0m\u001b[0mindex\u001b[0m\u001b[1;33m,\u001b[0m \u001b[0my\u001b[0m\u001b[1;33m=\u001b[0m\u001b[0mma\u001b[0m\u001b[1;33m)\u001b[0m\u001b[1;33m\u001b[0m\u001b[0m\n\u001b[1;32m---> 53\u001b[1;33m \u001b[0mtrace2\u001b[0m \u001b[1;33m=\u001b[0m \u001b[0mgo\u001b[0m\u001b[1;33m.\u001b[0m\u001b[0mOhlc\u001b[0m\u001b[1;33m(\u001b[0m\u001b[0mx\u001b[0m\u001b[1;33m=\u001b[0m\u001b[0mHA\u001b[0m\u001b[1;33m.\u001b[0m\u001b[0mindex\u001b[0m\u001b[1;33m,\u001b[0m \u001b[0mopen\u001b[0m\u001b[1;33m=\u001b[0m\u001b[0mHA\u001b[0m\u001b[1;33m.\u001b[0m\u001b[0mopen\u001b[0m\u001b[1;33m,\u001b[0m \u001b[0mhigh\u001b[0m\u001b[1;33m=\u001b[0m\u001b[0mHA\u001b[0m\u001b[1;33m.\u001b[0m\u001b[0mhigh\u001b[0m\u001b[1;33m,\u001b[0m \u001b[0mlow\u001b[0m\u001b[1;33m=\u001b[0m\u001b[0mHA\u001b[0m\u001b[1;33m.\u001b[0m\u001b[0mlow\u001b[0m\u001b[1;33m,\u001b[0m \u001b[0mclose\u001b[0m\u001b[1;33m=\u001b[0m\u001b[0mHA\u001b[0m\u001b[1;33m.\u001b[0m\u001b[0mclose\u001b[0m\u001b[1;33m,\u001b[0m \u001b[0mname\u001b[0m\u001b[1;33m=\u001b[0m\u001b[1;34m\"Heiken Ashi\"\u001b[0m\u001b[1;33m)\u001b[0m\u001b[1;33m\u001b[0m\u001b[0m\n\u001b[0m\u001b[0;32m     54\u001b[0m \u001b[1;33m\u001b[0m\u001b[0m\n\u001b[0;32m     55\u001b[0m \u001b[0mdata\u001b[0m \u001b[1;33m=\u001b[0m \u001b[1;33m[\u001b[0m\u001b[0mtrace0\u001b[0m\u001b[1;33m,\u001b[0m \u001b[0mtrace1\u001b[0m\u001b[1;33m,\u001b[0m \u001b[0mtrace2\u001b[0m\u001b[1;33m]\u001b[0m\u001b[1;33m\u001b[0m\u001b[0m\n",
      "\u001b[1;32mc:\\users\\patrik liba\\appdata\\local\\programs\\python\\python36\\lib\\site-packages\\plotly\\graph_objs\\_ohlc.py\u001b[0m in \u001b[0;36m__init__\u001b[1;34m(self, arg, close, closesrc, customdata, customdatasrc, decreasing, high, highsrc, hoverinfo, hoverinfosrc, hoverlabel, ids, idssrc, increasing, legendgroup, line, low, lowsrc, name, opacity, open, opensrc, selectedpoints, showlegend, stream, text, textsrc, tickwidth, uid, visible, x, xaxis, xcalendar, xsrc, yaxis, **kwargs)\u001b[0m\n\u001b[0;32m   1160\u001b[0m         \u001b[1;31m# ----------------------------------\u001b[0m\u001b[1;33m\u001b[0m\u001b[1;33m\u001b[0m\u001b[0m\n\u001b[0;32m   1161\u001b[0m         \u001b[0m_v\u001b[0m \u001b[1;33m=\u001b[0m \u001b[0marg\u001b[0m\u001b[1;33m.\u001b[0m\u001b[0mpop\u001b[0m\u001b[1;33m(\u001b[0m\u001b[1;34m'close'\u001b[0m\u001b[1;33m,\u001b[0m \u001b[1;32mNone\u001b[0m\u001b[1;33m)\u001b[0m\u001b[1;33m\u001b[0m\u001b[0m\n\u001b[1;32m-> 1162\u001b[1;33m         \u001b[0mself\u001b[0m\u001b[1;33m[\u001b[0m\u001b[1;34m'close'\u001b[0m\u001b[1;33m]\u001b[0m \u001b[1;33m=\u001b[0m \u001b[0mclose\u001b[0m \u001b[1;32mif\u001b[0m \u001b[0mclose\u001b[0m \u001b[1;32mis\u001b[0m \u001b[1;32mnot\u001b[0m \u001b[1;32mNone\u001b[0m \u001b[1;32melse\u001b[0m \u001b[0m_v\u001b[0m\u001b[1;33m\u001b[0m\u001b[0m\n\u001b[0m\u001b[0;32m   1163\u001b[0m         \u001b[0m_v\u001b[0m \u001b[1;33m=\u001b[0m \u001b[0marg\u001b[0m\u001b[1;33m.\u001b[0m\u001b[0mpop\u001b[0m\u001b[1;33m(\u001b[0m\u001b[1;34m'closesrc'\u001b[0m\u001b[1;33m,\u001b[0m \u001b[1;32mNone\u001b[0m\u001b[1;33m)\u001b[0m\u001b[1;33m\u001b[0m\u001b[0m\n\u001b[0;32m   1164\u001b[0m         \u001b[0mself\u001b[0m\u001b[1;33m[\u001b[0m\u001b[1;34m'closesrc'\u001b[0m\u001b[1;33m]\u001b[0m \u001b[1;33m=\u001b[0m \u001b[0mclosesrc\u001b[0m \u001b[1;32mif\u001b[0m \u001b[0mclosesrc\u001b[0m \u001b[1;32mis\u001b[0m \u001b[1;32mnot\u001b[0m \u001b[1;32mNone\u001b[0m \u001b[1;32melse\u001b[0m \u001b[0m_v\u001b[0m\u001b[1;33m\u001b[0m\u001b[0m\n",
      "\u001b[1;32mc:\\users\\patrik liba\\appdata\\local\\programs\\python\\python36\\lib\\site-packages\\plotly\\basedatatypes.py\u001b[0m in \u001b[0;36m__setitem__\u001b[1;34m(self, prop, value)\u001b[0m\n\u001b[0;32m   2808\u001b[0m             \u001b[1;31m# ### Handle simple property ###\u001b[0m\u001b[1;33m\u001b[0m\u001b[1;33m\u001b[0m\u001b[0m\n\u001b[0;32m   2809\u001b[0m             \u001b[1;32melse\u001b[0m\u001b[1;33m:\u001b[0m\u001b[1;33m\u001b[0m\u001b[0m\n\u001b[1;32m-> 2810\u001b[1;33m                 \u001b[0mself\u001b[0m\u001b[1;33m.\u001b[0m\u001b[0m_set_prop\u001b[0m\u001b[1;33m(\u001b[0m\u001b[0mprop\u001b[0m\u001b[1;33m,\u001b[0m \u001b[0mvalue\u001b[0m\u001b[1;33m)\u001b[0m\u001b[1;33m\u001b[0m\u001b[0m\n\u001b[0m\u001b[0;32m   2811\u001b[0m \u001b[1;33m\u001b[0m\u001b[0m\n\u001b[0;32m   2812\u001b[0m         \u001b[1;31m# Handle non-scalar case\u001b[0m\u001b[1;33m\u001b[0m\u001b[1;33m\u001b[0m\u001b[0m\n",
      "\u001b[1;32mc:\\users\\patrik liba\\appdata\\local\\programs\\python\\python36\\lib\\site-packages\\plotly\\basedatatypes.py\u001b[0m in \u001b[0;36m_set_prop\u001b[1;34m(self, prop, val)\u001b[0m\n\u001b[0;32m   3044\u001b[0m                 \u001b[1;32mreturn\u001b[0m\u001b[1;33m\u001b[0m\u001b[0m\n\u001b[0;32m   3045\u001b[0m             \u001b[1;32melse\u001b[0m\u001b[1;33m:\u001b[0m\u001b[1;33m\u001b[0m\u001b[0m\n\u001b[1;32m-> 3046\u001b[1;33m                 \u001b[1;32mraise\u001b[0m \u001b[0merr\u001b[0m\u001b[1;33m\u001b[0m\u001b[0m\n\u001b[0m\u001b[0;32m   3047\u001b[0m \u001b[1;33m\u001b[0m\u001b[0m\n\u001b[0;32m   3048\u001b[0m         \u001b[1;31m# val is None\u001b[0m\u001b[1;33m\u001b[0m\u001b[1;33m\u001b[0m\u001b[0m\n",
      "\u001b[1;32mc:\\users\\patrik liba\\appdata\\local\\programs\\python\\python36\\lib\\site-packages\\plotly\\basedatatypes.py\u001b[0m in \u001b[0;36m_set_prop\u001b[1;34m(self, prop, val)\u001b[0m\n\u001b[0;32m   3039\u001b[0m         \u001b[0mvalidator\u001b[0m \u001b[1;33m=\u001b[0m \u001b[0mself\u001b[0m\u001b[1;33m.\u001b[0m\u001b[0m_validators\u001b[0m\u001b[1;33m.\u001b[0m\u001b[0mget\u001b[0m\u001b[1;33m(\u001b[0m\u001b[0mprop\u001b[0m\u001b[1;33m)\u001b[0m\u001b[1;33m\u001b[0m\u001b[0m\n\u001b[0;32m   3040\u001b[0m         \u001b[1;32mtry\u001b[0m\u001b[1;33m:\u001b[0m\u001b[1;33m\u001b[0m\u001b[0m\n\u001b[1;32m-> 3041\u001b[1;33m             \u001b[0mval\u001b[0m \u001b[1;33m=\u001b[0m \u001b[0mvalidator\u001b[0m\u001b[1;33m.\u001b[0m\u001b[0mvalidate_coerce\u001b[0m\u001b[1;33m(\u001b[0m\u001b[0mval\u001b[0m\u001b[1;33m)\u001b[0m\u001b[1;33m\u001b[0m\u001b[0m\n\u001b[0m\u001b[0;32m   3042\u001b[0m         \u001b[1;32mexcept\u001b[0m \u001b[0mValueError\u001b[0m \u001b[1;32mas\u001b[0m \u001b[0merr\u001b[0m\u001b[1;33m:\u001b[0m\u001b[1;33m\u001b[0m\u001b[0m\n\u001b[0;32m   3043\u001b[0m             \u001b[1;32mif\u001b[0m \u001b[0mself\u001b[0m\u001b[1;33m.\u001b[0m\u001b[0m_skip_invalid\u001b[0m\u001b[1;33m:\u001b[0m\u001b[1;33m\u001b[0m\u001b[0m\n",
      "\u001b[1;32mc:\\users\\patrik liba\\appdata\\local\\programs\\python\\python36\\lib\\site-packages\\_plotly_utils\\basevalidators.py\u001b[0m in \u001b[0;36mvalidate_coerce\u001b[1;34m(self, v)\u001b[0m\n\u001b[0;32m    351\u001b[0m             \u001b[0mv\u001b[0m \u001b[1;33m=\u001b[0m \u001b[0mto_scalar_or_list\u001b[0m\u001b[1;33m(\u001b[0m\u001b[0mv\u001b[0m\u001b[1;33m)\u001b[0m\u001b[1;33m\u001b[0m\u001b[0m\n\u001b[0;32m    352\u001b[0m         \u001b[1;32melse\u001b[0m\u001b[1;33m:\u001b[0m\u001b[1;33m\u001b[0m\u001b[0m\n\u001b[1;32m--> 353\u001b[1;33m             \u001b[0mself\u001b[0m\u001b[1;33m.\u001b[0m\u001b[0mraise_invalid_val\u001b[0m\u001b[1;33m(\u001b[0m\u001b[0mv\u001b[0m\u001b[1;33m)\u001b[0m\u001b[1;33m\u001b[0m\u001b[0m\n\u001b[0m\u001b[0;32m    354\u001b[0m         \u001b[1;32mreturn\u001b[0m \u001b[0mv\u001b[0m\u001b[1;33m\u001b[0m\u001b[0m\n\u001b[0;32m    355\u001b[0m \u001b[1;33m\u001b[0m\u001b[0m\n",
      "\u001b[1;32mc:\\users\\patrik liba\\appdata\\local\\programs\\python\\python36\\lib\\site-packages\\_plotly_utils\\basevalidators.py\u001b[0m in \u001b[0;36mraise_invalid_val\u001b[1;34m(self, v, inds)\u001b[0m\n\u001b[0;32m    252\u001b[0m             \u001b[0mtyp\u001b[0m\u001b[1;33m=\u001b[0m\u001b[0mtype_str\u001b[0m\u001b[1;33m(\u001b[0m\u001b[0mv\u001b[0m\u001b[1;33m)\u001b[0m\u001b[1;33m,\u001b[0m\u001b[1;33m\u001b[0m\u001b[0m\n\u001b[0;32m    253\u001b[0m             \u001b[0mv\u001b[0m\u001b[1;33m=\u001b[0m\u001b[0mrepr\u001b[0m\u001b[1;33m(\u001b[0m\u001b[0mv\u001b[0m\u001b[1;33m)\u001b[0m\u001b[1;33m,\u001b[0m\u001b[1;33m\u001b[0m\u001b[0m\n\u001b[1;32m--> 254\u001b[1;33m             valid_clr_desc=self.description()))\n\u001b[0m\u001b[0;32m    255\u001b[0m \u001b[1;33m\u001b[0m\u001b[0m\n\u001b[0;32m    256\u001b[0m     \u001b[1;32mdef\u001b[0m \u001b[0mraise_invalid_elements\u001b[0m\u001b[1;33m(\u001b[0m\u001b[0mself\u001b[0m\u001b[1;33m,\u001b[0m \u001b[0minvalid_els\u001b[0m\u001b[1;33m)\u001b[0m\u001b[1;33m:\u001b[0m\u001b[1;33m\u001b[0m\u001b[0m\n",
      "\u001b[1;31mValueError\u001b[0m: \n    Invalid value of type 'pandas.core.frame.DataFrame' received for the 'close' property of ohlc\n        Received value:                         close\ndate                         \n2017-01-01 22:00:00  1.052342\n2017-01-01 23:00:00  1.052903\n2017-01-02 00:00:00  1.052787\n2017-01-02 01:00:00  1.052583\n2017-01-02 02:00:00  1.052157\n2017-01-02 03:00:00  1.052183\n2017-01-02 04:00:00  1.052080\n2017-01-02 05:00:00  1.051723\n2017-01-02 06:00:00  1.051560\n2017-01-02 07:00:00  1.051762\n2017-01-02 08:00:00  1.050310\n2017-01-02 09:00:00  1.048717\n2017-01-02 10:00:00  1.048447\n2017-01-02 11:00:00  1.047993\n2017-01-02 12:00:00  1.047250\n2017-01-02 13:00:00  1.046605\n2017-01-02 14:00:00  1.047065\n2017-01-02 15:00:00  1.047138\n2017-01-02 16:00:00  1.047305\n2017-01-02 17:00:00  1.046762\n2017-01-02 18:00:00  1.046435\n2017-01-02 19:00:00  1.046215\n2017-01-02 20:00:00  1.046037\n2017-01-02 21:00:00  1.045687\n2017-01-02 22:00:00  1.046218\n2017-01-02 23:00:00  1.046270\n2017-01-03 00:00:00  1.046327\n2017-01-03 01:00:00  1.047203\n2017-01-03 02:00:00  1.047438\n2017-01-03 03:00:00  1.047842\n...                       ...\n2018-12-06 16:00:00  1.137480\n2018-12-06 17:00:00  1.138075\n2018-12-06 18:00:00  1.138610\n2018-12-06 19:00:00  1.138005\n2018-12-06 20:00:00  1.137655\n2018-12-06 21:00:00  1.138057\n2018-12-06 22:00:00  1.137925\n2018-12-06 23:00:00  1.137672\n2018-12-07 00:00:00  1.137503\n2018-12-07 01:00:00  1.137528\n2018-12-07 02:00:00  1.137550\n2018-12-07 03:00:00  1.137732\n2018-12-07 04:00:00  1.137612\n2018-12-07 05:00:00  1.137063\n2018-12-07 06:00:00  1.137025\n2018-12-07 07:00:00  1.137095\n2018-12-07 08:00:00  1.137440\n2018-12-07 09:00:00  1.137190\n2018-12-07 10:00:00  1.136883\n2018-12-07 11:00:00  1.137650\n2018-12-07 12:00:00  1.137365\n2018-12-07 13:00:00  1.138402\n2018-12-07 14:00:00  1.138867\n2018-12-07 15:00:00  1.138652\n2018-12-07 16:00:00  1.139245\n2018-12-07 17:00:00  1.139132\n2018-12-07 18:00:00  1.140090\n2018-12-07 19:00:00  1.141512\n2018-12-07 20:00:00  1.141573\n2018-12-07 21:00:00  1.139712\n\n[12081 rows x 1 columns]\n\n    The 'close' property is an array that may be specified as a tuple,\n    list, numpy array, or pandas Series"
     ]
    }
   ],
   "source": [
    "class holder:\n",
    "    1\n",
    "    \n",
    "def heikenashi(prices, periods):\n",
    "    \n",
    "    \"\"\"\n",
    "    ;param prices: dataframe of OHLC & volume data\n",
    "    ;prama periods: periods for which to create the candles\n",
    "    :return: heiken ashi OHLC candles\n",
    "    \n",
    "    \"\"\"\n",
    "    results = holder()\n",
    "    \n",
    "    dict = {}\n",
    "    \n",
    "    HAclose = prices[[\"open\", \"high\", \"low\", \"close\"]].sum(axis=1)/4\n",
    "    \n",
    "    HAopen = HAclose.copy()\n",
    "    HAopen.iloc[0] = HAclose.iloc[0]\n",
    "    \n",
    "    HAhigh = HAclose.copy()\n",
    "    \n",
    "    HAlow = HAclose.copy()\n",
    "    \n",
    "    for i in range(1, len(prices)):\n",
    "        HAopen.iloc[i] = (HAopen.iloc[i-1] + HAclose.iloc[i-1])/2\n",
    "        \n",
    "        HAhigh.iloc[i] = np.array([prices.high.iloc[i], HAopen.iloc[i], HAclose.iloc[i]]).max()\n",
    "        \n",
    "        HAlow.iloc[i] = np.array([prices.low.iloc[i], HAopen.iloc[i], HAclose.iloc[i]]).min()\n",
    "        \n",
    "    df = pd.concat((HAopen, HAhigh, HAlow, HAclose), axis=1)\n",
    "    df.columns = [[\"open\", \"high\", \"low\", \"close\"]]\n",
    "    \n",
    "    \n",
    "    #df.index = df.index.droplevel(0)\n",
    "    \n",
    "    dict[periods[0]] = df\n",
    "    \n",
    "    results.candles = dict\n",
    "    \n",
    "    return results\n",
    "\n",
    "\n",
    "\n",
    "HAresults = heikenashi(df, [1])\n",
    "HA = HAresults.candles[1]\n",
    "\n",
    "ma = df.close.rolling(center=False, window=30).mean()\n",
    "\n",
    "trace0 = go.Ohlc(x=df.index, open=df.open, high=df.high, low=df.low, close=df.close, name=\"Currency Quote\")\n",
    "trace1 = go.Scatter(x=df.index, y=ma)\n",
    "trace2 = go.Ohlc(x=HA.index, open=HA.open, high=HA.high, low=HA.low, close=HA.close, name=\"Heiken Ashi\")\n",
    "\n",
    "data = [trace0, trace1, trace2]\n",
    "\n",
    "\n",
    "fig = tools.make_subplots(rows=2, cols=1, shared_xaxes=True, shared_yaxes=True)\n",
    "fig.append_trace(trace0, 1, 1)\n",
    "fig.append_trace(trace1, 1, 1)\n",
    "fig.append_trace(trace2, 2, 1)\n",
    "\n",
    "py.offline.plot(fig, filename=\"ccc.html\")"
   ]
  },
  {
   "cell_type": "code",
   "execution_count": null,
   "metadata": {},
   "outputs": [],
   "source": [
    "# moving average\n",
    "ma = df.close.rolling(center=False, window=30).mean()\n",
    "# candlestick graph\n",
    "trace0 = go.Ohlc(x=df.index, open=df.open, high=df.high, low=df.low, close=df.close, name=\"Currency Quote\")\n",
    "trace1 = go.Scatter(x=df.index, y=ma)\n",
    "trace2 = go.Bar(x=df.index, y=df.volume)\n",
    "\n",
    "data = [trace0, trace1, trace2]"
   ]
  },
  {
   "cell_type": "code",
   "execution_count": null,
   "metadata": {},
   "outputs": [],
   "source": [
    "fig = tools.make_subplots(rows=2, cols=1, shared_xaxes=True)\n",
    "fig.append_trace(trace0, 1, 1)\n",
    "fig.append_trace(trace1, 1, 1)\n",
    "fig.append_trace(trace2, 2, 1)\n",
    "\n",
    "py.offline.plot(fig, filename=\"xxx.html\")"
   ]
  },
  {
   "cell_type": "code",
   "execution_count": null,
   "metadata": {},
   "outputs": [],
   "source": [
    " HA.close"
   ]
  }
 ],
 "metadata": {
  "kernelspec": {
   "display_name": "Python 3",
   "language": "python",
   "name": "python3"
  },
  "language_info": {
   "codemirror_mode": {
    "name": "ipython",
    "version": 3
   },
   "file_extension": ".py",
   "mimetype": "text/x-python",
   "name": "python",
   "nbconvert_exporter": "python",
   "pygments_lexer": "ipython3",
   "version": "3.6.5"
  }
 },
 "nbformat": 4,
 "nbformat_minor": 2
}
