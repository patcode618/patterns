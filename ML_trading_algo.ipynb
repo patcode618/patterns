{
 "cells": [
  {
   "cell_type": "code",
   "execution_count": 2,
   "metadata": {},
   "outputs": [],
   "source": [
    "import pandas as pd\n",
    "import numpy as np\n",
    "import plotly as py\n",
    "from plotly import tools\n",
    "import plotly.graph_objs as go\n",
    "\n",
    "from scipy import stats\n",
    "import scipy.optimize\n",
    "from scipy.optimize import OptimizeWarning\n",
    "import warnings\n",
    "import math\n",
    "import matplotlib.pyplot as plt\n",
    "\n",
    "from sklearn.linear_model import LinearRegression\n",
    "\n",
    "import mpl_finance\n",
    "from matplotlib.dates import date2num\n",
    "from datetime import datetime"
   ]
  },
  {
   "cell_type": "code",
   "execution_count": 3,
   "metadata": {
    "scrolled": true
   },
   "outputs": [
    {
     "data": {
      "text/html": [
       "<div>\n",
       "<style scoped>\n",
       "    .dataframe tbody tr th:only-of-type {\n",
       "        vertical-align: middle;\n",
       "    }\n",
       "\n",
       "    .dataframe tbody tr th {\n",
       "        vertical-align: top;\n",
       "    }\n",
       "\n",
       "    .dataframe thead th {\n",
       "        text-align: right;\n",
       "    }\n",
       "</style>\n",
       "<table border=\"1\" class=\"dataframe\">\n",
       "  <thead>\n",
       "    <tr style=\"text-align: right;\">\n",
       "      <th></th>\n",
       "      <th>open</th>\n",
       "      <th>high</th>\n",
       "      <th>low</th>\n",
       "      <th>close</th>\n",
       "      <th>AskVol</th>\n",
       "    </tr>\n",
       "    <tr>\n",
       "      <th>date</th>\n",
       "      <th></th>\n",
       "      <th></th>\n",
       "      <th></th>\n",
       "      <th></th>\n",
       "      <th></th>\n",
       "    </tr>\n",
       "  </thead>\n",
       "  <tbody>\n",
       "    <tr>\n",
       "      <th>2017-01-01 22:00:00</th>\n",
       "      <td>1.05236</td>\n",
       "      <td>1.05253</td>\n",
       "      <td>1.05221</td>\n",
       "      <td>1.05227</td>\n",
       "      <td>143.54</td>\n",
       "    </tr>\n",
       "    <tr>\n",
       "      <th>2017-01-01 23:00:00</th>\n",
       "      <td>1.05227</td>\n",
       "      <td>1.05426</td>\n",
       "      <td>1.05226</td>\n",
       "      <td>1.05282</td>\n",
       "      <td>253.14</td>\n",
       "    </tr>\n",
       "    <tr>\n",
       "      <th>2017-01-02 00:00:00</th>\n",
       "      <td>1.05283</td>\n",
       "      <td>1.05283</td>\n",
       "      <td>1.05268</td>\n",
       "      <td>1.05281</td>\n",
       "      <td>131.40</td>\n",
       "    </tr>\n",
       "    <tr>\n",
       "      <th>2017-01-02 01:00:00</th>\n",
       "      <td>1.05282</td>\n",
       "      <td>1.05286</td>\n",
       "      <td>1.05225</td>\n",
       "      <td>1.05240</td>\n",
       "      <td>273.94</td>\n",
       "    </tr>\n",
       "    <tr>\n",
       "      <th>2017-01-02 02:00:00</th>\n",
       "      <td>1.05239</td>\n",
       "      <td>1.05240</td>\n",
       "      <td>1.05164</td>\n",
       "      <td>1.05220</td>\n",
       "      <td>258.14</td>\n",
       "    </tr>\n",
       "  </tbody>\n",
       "</table>\n",
       "</div>"
      ],
      "text/plain": [
       "                        open     high      low    close  AskVol\n",
       "date                                                           \n",
       "2017-01-01 22:00:00  1.05236  1.05253  1.05221  1.05227  143.54\n",
       "2017-01-01 23:00:00  1.05227  1.05426  1.05226  1.05282  253.14\n",
       "2017-01-02 00:00:00  1.05283  1.05283  1.05268  1.05281  131.40\n",
       "2017-01-02 01:00:00  1.05282  1.05286  1.05225  1.05240  273.94\n",
       "2017-01-02 02:00:00  1.05239  1.05240  1.05164  1.05220  258.14"
      ]
     },
     "execution_count": 3,
     "metadata": {},
     "output_type": "execute_result"
    }
   ],
   "source": [
    "df = pd.read_csv(\"EURUSD.csv\")\n",
    "df.columns = [\"date\", \"open\", \"high\", \"low\", \"close\", \"AskVol\"]\n",
    "\n",
    "df.date = pd.to_datetime(df.date, format=\"%d.%m.%Y %H:%M:%S.%f\") \n",
    "df = df.set_index(df.date)\n",
    "df = df[[\"open\", \"high\", \"low\", \"close\", \"AskVol\"]]\n",
    "# drop market-close price per hour\n",
    "df = df.drop_duplicates(keep=False)\n",
    "\n",
    "\n",
    "df.head()"
   ]
  },
  {
   "cell_type": "markdown",
   "metadata": {},
   "source": [
    "# Features Creation"
   ]
  },
  {
   "cell_type": "markdown",
   "metadata": {},
   "source": [
    "### 1) Heiken Ashi - given the paper"
   ]
  },
  {
   "cell_type": "code",
   "execution_count": 5,
   "metadata": {},
   "outputs": [
    {
     "ename": "SyntaxError",
     "evalue": "positional argument follows keyword argument (<ipython-input-5-ed5ce1dfc68a>, line 53)",
     "output_type": "error",
     "traceback": [
      "\u001b[1;36m  File \u001b[1;32m\"<ipython-input-5-ed5ce1dfc68a>\"\u001b[1;36m, line \u001b[1;32m53\u001b[0m\n\u001b[1;33m    trace2 = go.Ohlc(x=HA.index, open=HA.open, high=HA.high, low=HA.low, HA.close, name=\"Heiken Ashi\")\u001b[0m\n\u001b[1;37m                                                                        ^\u001b[0m\n\u001b[1;31mSyntaxError\u001b[0m\u001b[1;31m:\u001b[0m positional argument follows keyword argument\n"
     ]
    }
   ],
   "source": [
    "class holder:\n",
    "    1\n",
    "    \n",
    "def heikenashi(prices, periods):\n",
    "    \n",
    "    \"\"\"\n",
    "    ;param prices: dataframe of OHLC & volume data\n",
    "    ;prama periods: periods for which to create the candles\n",
    "    :return: heiken ashi OHLC candles\n",
    "    \n",
    "    \"\"\"\n",
    "    results = holder()\n",
    "    \n",
    "    dict = {}\n",
    "    \n",
    "    HAclose = prices[[\"open\", \"high\", \"low\", \"close\"]].sum(axis=1)/4\n",
    "    \n",
    "    HAopen = HAclose.copy()\n",
    "    HAopen.iloc[0] = HAclose.iloc[0]\n",
    "    \n",
    "    HAhigh = HAclose.copy()\n",
    "    \n",
    "    HAlow = HAclose.copy()\n",
    "    \n",
    "    for i in range(1, len(prices)):\n",
    "        HAopen.iloc[i] = (HAopen.iloc[i-1] + HAclose.iloc[i-1])/2\n",
    "        \n",
    "        HAhigh.iloc[i] = np.array([prices.high.iloc[i], HAopen.iloc[i], HAclose.iloc[i]]).max()\n",
    "        \n",
    "        HAlow.iloc[i] = np.array([prices.low.iloc[i], HAopen.iloc[i], HAclose.iloc[i]]).min()\n",
    "        \n",
    "    df = pd.concat((HAopen, HAhigh, HAlow, HAclose), axis=1)\n",
    "    df.columns = [[\"open\", \"high\", \"low\", \"close\"]]\n",
    "    \n",
    "    \n",
    "    #df.index = df.index.droplevel(0)\n",
    "    \n",
    "    dict[periods[0]] = df\n",
    "    \n",
    "    results.candles = dict\n",
    "    \n",
    "    return results\n",
    "\n",
    "\n",
    "\n",
    "HAresults = heikenashi(df, [1])\n",
    "HA = HAresults.candles[1]\n",
    "\n",
    "ma = df.close.rolling(center=False, window=30).mean()\n",
    "\n",
    "trace0 = go.Ohlc(x=df.index, open=df.open, high=df.high, low=df.low, close=df.close, name=\"Currency Quote\")\n",
    "trace1 = go.Scatter(x=df.index, y=ma)\n",
    "trace2 = go.Ohlc(x=HA.index, open=HA.open, high=HA.high, low=HA.low, closeHA.close, name=\"Heiken Ashi\")\n",
    "\n",
    "data = [trace0, trace1, trace2]\n",
    "\n",
    "\n",
    "fig = tools.make_subplots(rows=2, cols=1, shared_xaxes=True, shared_yaxes=True)\n",
    "fig.append_trace(trace0, 1, 1)\n",
    "fig.append_trace(trace1, 1, 1)\n",
    "fig.append_trace(trace2, 2, 1)\n",
    "\n",
    "py.offline.plot(fig, filename=\"ccc.html\")"
   ]
  },
  {
   "cell_type": "code",
   "execution_count": null,
   "metadata": {},
   "outputs": [],
   "source": [
    "# moving average\n",
    "ma = df.close.rolling(center=False, window=30).mean()\n",
    "# candlestick graph\n",
    "trace0 = go.Ohlc(x=df.index, open=df.open, high=df.high, low=df.low, close=df.close, name=\"Currency Quote\")\n",
    "trace1 = go.Scatter(x=df.index, y=ma)\n",
    "trace2 = go.Bar(x=df.index, y=df.volume)\n",
    "\n",
    "data = [trace0, trace1, trace2]"
   ]
  },
  {
   "cell_type": "code",
   "execution_count": null,
   "metadata": {},
   "outputs": [],
   "source": [
    "fig = tools.make_subplots(rows=2, cols=1, shared_xaxes=True)\n",
    "fig.append_trace(trace0, 1, 1)\n",
    "fig.append_trace(trace1, 1, 1)\n",
    "fig.append_trace(trace2, 2, 1)\n",
    "\n",
    "py.offline.plot(fig, filename=\"xxx.html\")"
   ]
  },
  {
   "cell_type": "code",
   "execution_count": null,
   "metadata": {},
   "outputs": [],
   "source": [
    " HA.close"
   ]
  }
 ],
 "metadata": {
  "kernelspec": {
   "display_name": "Python 3",
   "language": "python",
   "name": "python3"
  },
  "language_info": {
   "codemirror_mode": {
    "name": "ipython",
    "version": 3
   },
   "file_extension": ".py",
   "mimetype": "text/x-python",
   "name": "python",
   "nbconvert_exporter": "python",
   "pygments_lexer": "ipython3",
   "version": "3.6.5"
  }
 },
 "nbformat": 4,
 "nbformat_minor": 2
}
